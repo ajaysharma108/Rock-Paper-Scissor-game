{
 "cells": [
  {
   "cell_type": "code",
   "execution_count": 2,
   "id": "0ff849f8",
   "metadata": {},
   "outputs": [],
   "source": [
    "from random import randint\n",
    "# Create a list of play Options\n",
    "game = ['Rock','Paper','Scissors']\n",
    "# Assign a random play to the computer\n",
    "computer = game[randint(0,2)]"
   ]
  },
  {
   "cell_type": "code",
   "execution_count": 13,
   "id": "0e652824",
   "metadata": {},
   "outputs": [
    {
     "name": "stdout",
     "output_type": "stream",
     "text": [
      "Rock, Paper, Scissors?Paper\n",
      "You win! Paper covers Rock\n"
     ]
    }
   ],
   "source": [
    "# Set player to False\n",
    "player = False\n",
    "while player == False:\n",
    "    # Set player to True\n",
    "    player = input('Rock, Paper, Scissors?')\n",
    "    if player == computer:\n",
    "        print('Tie')\n",
    "    elif player=='Rock':\n",
    "        if computer=='Paper':\n",
    "            print('You lose!',computer,'covers',player)\n",
    "        else:\n",
    "            print('You win!',player,'smashes',computer)\n",
    "    elif player == 'Paper':\n",
    "        if computer == 'Scissors':\n",
    "            print('You lose!', computer,'cut', player)\n",
    "        else:\n",
    "            print('You win!',player ,'covers', computer)\n",
    "    elif player == 'Scissors':\n",
    "        if computer == 'Rock':\n",
    "            print('You lose!', computer, 'smashes', player)\n",
    "        else:\n",
    "            print('You win!', player, 'cut', computer)\n",
    "    else:\n",
    "        print('This is not a valid game.Please check spelling_____!')\n",
    "    player == False\n",
    "    computer = game[randint(0,2)]"
   ]
  },
  {
   "cell_type": "code",
   "execution_count": null,
   "id": "260f5fe7",
   "metadata": {},
   "outputs": [],
   "source": []
  },
  {
   "cell_type": "code",
   "execution_count": null,
   "id": "c4faa0a7",
   "metadata": {},
   "outputs": [],
   "source": []
  }
 ],
 "metadata": {
  "kernelspec": {
   "display_name": "Python 3 (ipykernel)",
   "language": "python",
   "name": "python3"
  },
  "language_info": {
   "codemirror_mode": {
    "name": "ipython",
    "version": 3
   },
   "file_extension": ".py",
   "mimetype": "text/x-python",
   "name": "python",
   "nbconvert_exporter": "python",
   "pygments_lexer": "ipython3",
   "version": "3.11.5"
  }
 },
 "nbformat": 4,
 "nbformat_minor": 5
}
